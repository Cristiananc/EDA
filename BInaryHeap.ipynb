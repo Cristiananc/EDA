{
  "nbformat": 4,
  "nbformat_minor": 0,
  "metadata": {
    "colab": {
      "name": "BInaryHeap.ipynb",
      "provenance": [],
      "collapsed_sections": []
    },
    "kernelspec": {
      "name": "python3",
      "display_name": "Python 3"
    }
  },
  "cells": [
    {
      "cell_type": "code",
      "metadata": {
        "id": "2rdjvDmEtC7e",
        "colab_type": "code",
        "colab": {}
      },
      "source": [
        "#Referência: https://courses.cs.washington.edu/courses/cse373/06sp/handouts/lecture10.pdf\n",
        "\n",
        "class binaryHeap:\n",
        "  def __init__(self):\n",
        "        self.lista = ['']\n",
        "\n",
        "  def findMin(self):\n",
        "    return self.lista[1]\n",
        "\n",
        "  def PercUp(self, i,x):\n",
        "    if i == 1:\n",
        "      self.lista[1] = x\n",
        "    else:\n",
        "      if self.lista[int(i/2)][1] < x[1]: \n",
        "        self.lista[i] = x\n",
        "      else:\n",
        "        self.lista[i] = self.lista[int(i/2)]\n",
        "        self.PercUp(int(i/2), x)\n",
        "\n",
        "  def PercDown(self, i, x):\n",
        "    n = len(self.lista) - 1\n",
        "    j = 0\n",
        "    if 2*i > n: self.lista[i] = x\n",
        "    elif 2*i == n:\n",
        "      if self.lista[2*i][1] < x[1]:\n",
        "        self.lista[i] = self.lista[2*i]\n",
        "        self.lista[2*i] = x\n",
        "      else: self.lista[i] = x\n",
        "    else:\n",
        "      if self.lista[2*i][1] < self.lista[2*i + 1][1]:\n",
        "        j = 2*i\n",
        "      else: j = 2*i + 1\n",
        "      if self.lista[j][1] < x[1]:\n",
        "        self.lista[i] = self.lista[j]\n",
        "        self.PercDown(j,x)\n",
        "      else:\n",
        "        self.lista[i] = x\n",
        "\n",
        "  #A é uma lista que no indice 0 é -\n",
        "  def insert(self, x):\n",
        "    #Coloquei o novo nó mais a esquerda possível\n",
        "    self.lista.append(x)\n",
        "    #Preciso corrigir o array que representa a binary tree\n",
        "    i = len(self.lista) - 1\n",
        "    self.PercUp(i, x)\n",
        "    return self.lista\n",
        "\n",
        "  def findIndex(self, node):\n",
        "    for i in range(1,len(self.lista)):\n",
        "      if self.lista[i][0] == node[0]:\n",
        "        return i\n",
        "\n",
        "  def DecreaseKey(self, x):\n",
        "    #x is a list ['Node', priority]\n",
        "    i = self.findIndex(x)\n",
        "    self.lista[i] = x\n",
        "    self.PercUp(i, x)\n",
        "    return self.lista\n",
        "\n",
        "  def notEmpty(self):\n",
        "    if len(self.lista) > 1:\n",
        "      return True\n",
        "    else:\n",
        "      return False\n",
        "\n",
        "  def deleteMin(self):\n",
        "    self.lista[1] = None\n",
        "    #Se eu deletar o único nó, a árvore não existe mais\n",
        "    if len(self.lista) > 2:\n",
        "      lastNode = self.lista[-1]\n",
        "      self.lista.pop(-1)\n",
        "      #Preciso arranjar um novo lugar para o último valor, para isso precisamos da\n",
        "      #função PercDown\n",
        "      self.PercDown(1,  lastNode)\n",
        "    return self.lista\n"
      ],
      "execution_count": 0,
      "outputs": []
    },
    {
      "cell_type": "code",
      "metadata": {
        "id": "Cd8KW5EVxu-t",
        "colab_type": "code",
        "outputId": "f941cf40-d919-404e-b633-502fe3e392a2",
        "colab": {
          "base_uri": "https://localhost:8080/",
          "height": 34
        }
      },
      "source": [
        "lista = binaryHeap()\n",
        "lista.insert(['A', 2])\n",
        "lista.insert(['B', 1])\n",
        "lista.deleteMin()"
      ],
      "execution_count": 188,
      "outputs": [
        {
          "output_type": "execute_result",
          "data": {
            "text/plain": [
              "['', ['A', 2]]"
            ]
          },
          "metadata": {
            "tags": []
          },
          "execution_count": 188
        }
      ]
    },
    {
      "cell_type": "code",
      "metadata": {
        "id": "27vPXQNYqM2m",
        "colab_type": "code",
        "colab": {}
      },
      "source": [
        "import random\n",
        "import math\n",
        "\n",
        "#Ref: https://www2.seas.gwu.edu/~simhaweb/champalg/mst/mst.html\n",
        "\n",
        "G = {\n",
        "    'A' : [['B', 4], ['H', 8]],\n",
        "    'B':  [['A', 4], ['C', 8], ['H', 11]],\n",
        "    'C':  [['F', 4], [ 'B', 8], ['D', 7], ['I', 2]],\n",
        "    'D':  [['C', 7], ['F', 14], ['E', 9]],\n",
        "    'E':  [['D', 9], ['F', 10]],\n",
        "    'F':  [['E', 10], ['G', 2], ['C', 4], ['D', 14]],\n",
        "    'G':  [['I', 6], [ 'F', 2], ['H', 1]],\n",
        "    'H':  [['G', 1], ['A', 8], ['B', 11], ['I', 7]],\n",
        "    'I':  [['C', 2], ['G', 6], ['H', 7]]\n",
        "}\n",
        "\n",
        "#Prim's algorithm\n",
        "def prim(G):\n",
        "  V = list(G)\n",
        "  MST = {}\n",
        "  #Lista de prioridades\n",
        "  priority = [float('Inf')]*len(V)\n",
        "  priorityQueue = binaryHeap()\n",
        "  i = 0\n",
        "  for v in V:\n",
        "    priorityQueue.insert([v, priority[i]])\n",
        "    i += 1\n",
        "  #DecreaseKey of first vertex to 0\n",
        "  priorityQueue.findMin()[1] = 0\n",
        "  priority[0] = 0 \n",
        "\n",
        "  while priorityQueue.notEmpty():\n",
        "    v = priorityQueue.findMin()\n",
        "    priorityQueue.deleteMin()\n",
        "    if not v:\n",
        "      break\n",
        "    v = v[0]\n",
        "    for e in G[v]:\n",
        "      if e[0] not in MST:\n",
        "        w = e[1]\n",
        "        u = e[0]\n",
        "        if priority[ord(u) - ord('A')] > w:\n",
        "          priority[ord(u) - ord('A')] = w\n",
        "          priorityQueue.DecreaseKey([u, w])\n",
        "        if v not in MST:\n",
        "          MST[v] = len(MST) + 1\n",
        "  return MST\n"
      ],
      "execution_count": 0,
      "outputs": []
    },
    {
      "cell_type": "code",
      "metadata": {
        "id": "qqVJot6jm0gW",
        "colab_type": "code",
        "colab": {
          "base_uri": "https://localhost:8080/",
          "height": 34
        },
        "outputId": "438ee981-bbbb-438c-a662-8ce5e06d3dd4"
      },
      "source": [
        "prim(G)\n",
        "#O valor de cada chave é a posição no MST"
      ],
      "execution_count": 272,
      "outputs": [
        {
          "output_type": "execute_result",
          "data": {
            "text/plain": [
              "{'B': 7, 'C': 2, 'D': 6, 'F': 3, 'G': 4, 'H': 5, 'I': 1}"
            ]
          },
          "metadata": {
            "tags": []
          },
          "execution_count": 272
        }
      ]
    }
  ]
}