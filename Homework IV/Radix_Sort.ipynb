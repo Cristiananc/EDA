{
  "nbformat": 4,
  "nbformat_minor": 0,
  "metadata": {
    "colab": {
      "name": "Radix_Sort.ipynb",
      "provenance": [],
      "collapsed_sections": []
    },
    "kernelspec": {
      "name": "python3",
      "display_name": "Python 3"
    }
  },
  "cells": [
    {
      "cell_type": "code",
      "metadata": {
        "id": "vNiF2MTGkz4R",
        "colab_type": "code",
        "colab": {
          "base_uri": "https://localhost:8080/",
          "height": 34
        },
        "outputId": "a329719b-e7a6-4f2e-9a4f-eb55acb17bb6"
      },
      "source": [
        "def radix_sort(A,d,k):\n",
        "  #A consiste de n inteiros de d dígitos, com os digitos indo de 0 à k-1\n",
        "  for j in range(0,d):\n",
        "    A_j = [(A[i]//10**(j) % 10,A[i]) for i in range(len(A))]\n",
        "    result = bucket_sort(A_j, k,k)\n",
        "    A = result\n",
        "  return A\n",
        "\n",
        "\n",
        "def bucket_sort(A, k, num_buckets):\n",
        "  result = []\n",
        "  #A consiste de n pares de (chave,valor) com chaves indo de 0 à k-1\n",
        "  buckets = [[] for i in range(num_buckets)]\n",
        "  for key,value in A:\n",
        "    buckets[key].append((key,value))\n",
        "  if num_buckets < k:\n",
        "    for bucket in buckets:\n",
        "      bucket = sorted(bucket, key= lambda b : b[0])\n",
        "  for bucket in buckets:\n",
        "    bucket_values = [bucket[i][1] for i in range(len(bucket))]\n",
        "    result = result + bucket_values\n",
        "  return result\n",
        "    \n",
        "A = [201, 10, 3, 100]\n",
        "A_sorted = radix_sort(A, 3, 10)\n",
        "print(A_sorted)"
      ],
      "execution_count": 106,
      "outputs": [
        {
          "output_type": "stream",
          "text": [
            "[3, 10, 100, 201]\n"
          ],
          "name": "stdout"
        }
      ]
    },
    {
      "cell_type": "code",
      "metadata": {
        "id": "ZIL2KcJ9TxEd",
        "colab_type": "code",
        "colab": {}
      },
      "source": [
        ""
      ],
      "execution_count": 0,
      "outputs": []
    },
    {
      "cell_type": "markdown",
      "metadata": {
        "id": "IWOGpDYbtQhY",
        "colab_type": "text"
      },
      "source": [
        "Referências: https://docs.python.org/3/howto/sorting.html\n",
        "\n"
      ]
    }
  ]
}